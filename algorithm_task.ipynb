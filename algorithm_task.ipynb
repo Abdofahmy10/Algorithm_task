{
 "cells": [
  {
   "cell_type": "code",
   "execution_count": 1,
   "id": "d63adb8e",
   "metadata": {},
   "outputs": [
    {
     "name": "stdout",
     "output_type": "stream",
     "text": [
      "[5, 9, 10, 100]\n"
     ]
    }
   ],
   "source": [
    "def insertion_sort (arr):\n",
    "    for i in range(1,len(arr)):\n",
    "        item = arr[i]\n",
    "        j = i - 1\n",
    "        while j >= 0 and arr[j] > item :\n",
    "            arr[j+1] = arr[j]\n",
    "            j -= 1\n",
    "            arr[j+1] = item\n",
    "\n",
    "a = [100,5,10,9]\n",
    "insertion_sort(a)\n",
    "print(a)"
   ]
  },
  {
   "cell_type": "code",
   "execution_count": 2,
   "id": "ffc6307d",
   "metadata": {},
   "outputs": [
    {
     "name": "stdout",
     "output_type": "stream",
     "text": [
      "[5, 9, 10, 100]\n"
     ]
    }
   ],
   "source": [
    "def bubble_sort (arr):\n",
    "    swapped = True\n",
    "    while swapped:\n",
    "        swapped = False\n",
    "        for i in range(len(arr)-1):\n",
    "            if arr [i] > arr[i+1]:\n",
    "                arr[i], arr[i+1] = arr[i+1], arr[i]\n",
    "                swapped = True\n",
    "\n",
    "a = [100,5,10,9]\n",
    "bubble_sort(a)\n",
    "print(a)"
   ]
  },
  {
   "cell_type": "code",
   "execution_count": 4,
   "id": "7caa12bf",
   "metadata": {},
   "outputs": [
    {
     "name": "stdout",
     "output_type": "stream",
     "text": [
      "Splitting  [100, 5, 10, 9, 14, 17, 18, 1, 11]\n",
      "Splitting  [100, 5, 10, 9]\n",
      "Splitting  [100, 5]\n",
      "Splitting  [100]\n",
      "Merging  [100]\n",
      "Splitting  [5]\n",
      "Merging  [5]\n",
      "Merging  [5, 100]\n",
      "Splitting  [10, 9]\n",
      "Splitting  [10]\n",
      "Merging  [10]\n",
      "Splitting  [9]\n",
      "Merging  [9]\n",
      "Merging  [9, 10]\n",
      "Merging  [5, 9, 10, 100]\n",
      "Splitting  [14, 17, 18, 1, 11]\n",
      "Splitting  [14, 17]\n",
      "Splitting  [14]\n",
      "Merging  [14]\n",
      "Splitting  [17]\n",
      "Merging  [17]\n",
      "Merging  [14, 17]\n",
      "Splitting  [18, 1, 11]\n",
      "Splitting  [18]\n",
      "Merging  [18]\n",
      "Splitting  [1, 11]\n",
      "Splitting  [1]\n",
      "Merging  [1]\n",
      "Splitting  [11]\n",
      "Merging  [11]\n",
      "Merging  [1, 11]\n",
      "Merging  [1, 11, 18]\n",
      "Merging  [1, 11, 14, 17, 18]\n",
      "Merging  [1, 5, 9, 10, 11, 14, 17, 18, 100]\n",
      "[1, 5, 9, 10, 11, 14, 17, 18, 100]\n"
     ]
    }
   ],
   "source": [
    "\n",
    "def mergeSort(arr):\n",
    "    print(\"Splitting \", arr)\n",
    "    if len(arr) > 1:\n",
    "        mid = len(arr)//2\n",
    "        lefthalf = arr[:mid]\n",
    "        righthalf = arr[mid:]\n",
    "        mergeSort(lefthalf)\n",
    "        mergeSort(righthalf)\n",
    "\n",
    "        i = 0\n",
    "        j = 0\n",
    "        k = 0\n",
    "        while i < len(lefthalf) and j < len(righthalf):\n",
    "            if lefthalf[i] < righthalf[j]:\n",
    "                arr[k] = lefthalf[i]\n",
    "                i = i+1\n",
    "            else:\n",
    "                arr[k] = righthalf[j]\n",
    "                j = j+1\n",
    "            k = k+1\n",
    "        while i < len(lefthalf):\n",
    "                arr[k] = lefthalf[i]\n",
    "                i = i+1\n",
    "                k = k+1\n",
    "        while j < len(righthalf):\n",
    "            arr[k] = righthalf[j]\n",
    "            j = j+1\n",
    "            k = k+1\n",
    "    print(\"Merging \", arr)\n",
    "\n",
    "\n",
    "a = [100, 5, 10, 9,14,17,18,1,11]\n",
    "\n",
    "mergeSort(a)\n",
    "print(a)"
   ]
  },
  {
   "cell_type": "code",
   "execution_count": 6,
   "id": "87ca00a0",
   "metadata": {},
   "outputs": [
    {
     "name": "stdout",
     "output_type": "stream",
     "text": [
      "1 - 2 : 2\n",
      "2 - 5 : 2\n",
      "2 - 3 : 3\n",
      "3 - 4 : 3\n",
      "0 - 1 : 4\n"
     ]
    }
   ],
   "source": [
    "# Kruskal's algorithm in Python\n",
    "\n",
    "\n",
    "class Graph:\n",
    "    def __init__(self, vertices):\n",
    "        self.V = vertices\n",
    "        self.graph = []\n",
    "\n",
    "    def add_edge(self, u, v, w):\n",
    "        self.graph.append([u, v, w])\n",
    "\n",
    "    # Search function\n",
    "\n",
    "    def find(self, parent, i):\n",
    "        if parent[i] == i:\n",
    "            return i\n",
    "        return self.find(parent, parent[i])\n",
    "\n",
    "    def apply_union(self, parent, rank, x, y):\n",
    "        xroot = self.find(parent, x)\n",
    "        yroot = self.find(parent, y)\n",
    "        if rank[xroot] < rank[yroot]:\n",
    "            parent[xroot] = yroot\n",
    "        elif rank[xroot] > rank[yroot]:\n",
    "            parent[yroot] = xroot\n",
    "        else:\n",
    "            parent[yroot] = xroot\n",
    "            rank[xroot] += 1\n",
    "\n",
    "    #  Applying Kruskal algorithm\n",
    "    def kruskal_algo(self):\n",
    "        result = []\n",
    "        i, e = 0, 0\n",
    "        self.graph = sorted(self.graph, key=lambda item: item[2])\n",
    "        parent = []\n",
    "        rank = []\n",
    "        for node in range(self.V):\n",
    "            parent.append(node)\n",
    "            rank.append(0)\n",
    "        while e < self.V - 1:\n",
    "            u, v, w = self.graph[i]\n",
    "            i = i + 1\n",
    "            x = self.find(parent, u)\n",
    "            y = self.find(parent, v)\n",
    "            if x != y:\n",
    "                e = e + 1\n",
    "                result.append([u, v, w])\n",
    "                self.apply_union(parent, rank, x, y)\n",
    "        for u, v, weight in result:\n",
    "            print(f\"{u} - {v} : {weight}\")\n",
    "\n",
    "\n",
    "g = Graph(6)\n",
    "g.add_edge(0, 1, 4)\n",
    "g.add_edge(0, 2, 4)\n",
    "g.add_edge(1, 2, 2)\n",
    "g.add_edge(1, 0, 4)\n",
    "g.add_edge(2, 0, 4)\n",
    "g.add_edge(2, 1, 2)\n",
    "g.add_edge(2, 3, 3)\n",
    "g.add_edge(2, 5, 2)\n",
    "g.add_edge(2, 4, 4)\n",
    "g.add_edge(3, 2, 3)\n",
    "g.add_edge(3, 4, 3)\n",
    "g.add_edge(4, 2, 4)\n",
    "g.add_edge(4, 3, 3)\n",
    "g.add_edge(5, 2, 2)\n",
    "g.add_edge(5, 4, 3)\n",
    "g.kruskal_algo()"
   ]
  },
  {
   "cell_type": "code",
   "execution_count": null,
   "id": "9e588241",
   "metadata": {},
   "outputs": [],
   "source": []
  }
 ],
 "metadata": {
  "kernelspec": {
   "display_name": "Python 3 (ipykernel)",
   "language": "python",
   "name": "python3"
  },
  "language_info": {
   "codemirror_mode": {
    "name": "ipython",
    "version": 3
   },
   "file_extension": ".py",
   "mimetype": "text/x-python",
   "name": "python",
   "nbconvert_exporter": "python",
   "pygments_lexer": "ipython3",
   "version": "3.9.12"
  }
 },
 "nbformat": 4,
 "nbformat_minor": 5
}
